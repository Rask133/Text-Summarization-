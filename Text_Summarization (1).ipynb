{
  "nbformat": 4,
  "nbformat_minor": 0,
  "metadata": {
    "colab": {
      "provenance": []
    },
    "kernelspec": {
      "name": "python3",
      "display_name": "Python 3"
    },
    "language_info": {
      "name": "python"
    }
  },
  "cells": [
    {
      "cell_type": "code",
      "execution_count": null,
      "metadata": {
        "colab": {
          "base_uri": "https://localhost:8080/"
        },
        "id": "ASAQD5MkgU4v",
        "outputId": "51bb54d8-5e7f-44b1-8235-bff8931eb607"
      },
      "outputs": [
        {
          "output_type": "stream",
          "name": "stdout",
          "text": [
            "Looking in indexes: https://pypi.org/simple, https://us-python.pkg.dev/colab-wheels/public/simple/\n",
            "Requirement already satisfied: pyarrow in /usr/local/lib/python3.10/dist-packages (9.0.0)\n",
            "Requirement already satisfied: pandas in /usr/local/lib/python3.10/dist-packages (1.5.3)\n",
            "Requirement already satisfied: numpy>=1.16.6 in /usr/local/lib/python3.10/dist-packages (from pyarrow) (1.22.4)\n",
            "Requirement already satisfied: python-dateutil>=2.8.1 in /usr/local/lib/python3.10/dist-packages (from pandas) (2.8.2)\n",
            "Requirement already satisfied: pytz>=2020.1 in /usr/local/lib/python3.10/dist-packages (from pandas) (2022.7.1)\n",
            "Requirement already satisfied: six>=1.5 in /usr/local/lib/python3.10/dist-packages (from python-dateutil>=2.8.1->pandas) (1.16.0)\n"
          ]
        }
      ],
      "source": [
        "pip install pyarrow pandas\n"
      ]
    },
    {
      "cell_type": "code",
      "source": [
        "import pandas as pd\n",
        "import pyarrow.parquet as pq\n",
        "import nltk\n",
        "from nltk.corpus import stopwords\n",
        "from nltk.tokenize import word_tokenize\n",
        "from nltk.stem import WordNetLemmatizer\n",
        "\n",
        "nltk.download('punkt')\n",
        "nltk.download('stopwords')\n",
        "nltk.download('wordnet')\n",
        "\n",
        "from nltk.translate.bleu_score import corpus_bleu\n",
        "!pip install rouge\n",
        "from rouge import Rouge"
      ],
      "metadata": {
        "colab": {
          "base_uri": "https://localhost:8080/"
        },
        "id": "Gaae9UAXgYS8",
        "outputId": "acf40f9b-2f45-4e46-ace9-c8441682f53d"
      },
      "execution_count": null,
      "outputs": [
        {
          "output_type": "stream",
          "name": "stderr",
          "text": [
            "[nltk_data] Downloading package punkt to /root/nltk_data...\n",
            "[nltk_data]   Package punkt is already up-to-date!\n",
            "[nltk_data] Downloading package stopwords to /root/nltk_data...\n",
            "[nltk_data]   Package stopwords is already up-to-date!\n",
            "[nltk_data] Downloading package wordnet to /root/nltk_data...\n",
            "[nltk_data]   Package wordnet is already up-to-date!\n"
          ]
        },
        {
          "output_type": "stream",
          "name": "stdout",
          "text": [
            "Looking in indexes: https://pypi.org/simple, https://us-python.pkg.dev/colab-wheels/public/simple/\n",
            "Requirement already satisfied: rouge in /usr/local/lib/python3.10/dist-packages (1.0.1)\n",
            "Requirement already satisfied: six in /usr/local/lib/python3.10/dist-packages (from rouge) (1.16.0)\n"
          ]
        }
      ]
    },
    {
      "cell_type": "code",
      "source": [
        "\n",
        "!pip install transformers\n",
        "from transformers import T5Tokenizer, T5ForConditionalGeneration\n",
        "!pip install torch torchvision\n",
        "import torch\n"
      ],
      "metadata": {
        "colab": {
          "base_uri": "https://localhost:8080/"
        },
        "id": "0Ia0X0LM1YTj",
        "outputId": "3985fe94-f46d-4855-8ead-e0e0540c33b8"
      },
      "execution_count": null,
      "outputs": [
        {
          "output_type": "stream",
          "name": "stdout",
          "text": [
            "Looking in indexes: https://pypi.org/simple, https://us-python.pkg.dev/colab-wheels/public/simple/\n",
            "Requirement already satisfied: transformers in /usr/local/lib/python3.10/dist-packages (4.30.2)\n",
            "Requirement already satisfied: filelock in /usr/local/lib/python3.10/dist-packages (from transformers) (3.12.0)\n",
            "Requirement already satisfied: huggingface-hub<1.0,>=0.14.1 in /usr/local/lib/python3.10/dist-packages (from transformers) (0.15.1)\n",
            "Requirement already satisfied: numpy>=1.17 in /usr/local/lib/python3.10/dist-packages (from transformers) (1.22.4)\n",
            "Requirement already satisfied: packaging>=20.0 in /usr/local/lib/python3.10/dist-packages (from transformers) (23.1)\n",
            "Requirement already satisfied: pyyaml>=5.1 in /usr/local/lib/python3.10/dist-packages (from transformers) (6.0)\n",
            "Requirement already satisfied: regex!=2019.12.17 in /usr/local/lib/python3.10/dist-packages (from transformers) (2022.10.31)\n",
            "Requirement already satisfied: requests in /usr/local/lib/python3.10/dist-packages (from transformers) (2.27.1)\n",
            "Requirement already satisfied: tokenizers!=0.11.3,<0.14,>=0.11.1 in /usr/local/lib/python3.10/dist-packages (from transformers) (0.13.3)\n",
            "Requirement already satisfied: safetensors>=0.3.1 in /usr/local/lib/python3.10/dist-packages (from transformers) (0.3.1)\n",
            "Requirement already satisfied: tqdm>=4.27 in /usr/local/lib/python3.10/dist-packages (from transformers) (4.65.0)\n",
            "Requirement already satisfied: fsspec in /usr/local/lib/python3.10/dist-packages (from huggingface-hub<1.0,>=0.14.1->transformers) (2023.4.0)\n",
            "Requirement already satisfied: typing-extensions>=3.7.4.3 in /usr/local/lib/python3.10/dist-packages (from huggingface-hub<1.0,>=0.14.1->transformers) (4.5.0)\n",
            "Requirement already satisfied: urllib3<1.27,>=1.21.1 in /usr/local/lib/python3.10/dist-packages (from requests->transformers) (1.26.15)\n",
            "Requirement already satisfied: certifi>=2017.4.17 in /usr/local/lib/python3.10/dist-packages (from requests->transformers) (2022.12.7)\n",
            "Requirement already satisfied: charset-normalizer~=2.0.0 in /usr/local/lib/python3.10/dist-packages (from requests->transformers) (2.0.12)\n",
            "Requirement already satisfied: idna<4,>=2.5 in /usr/local/lib/python3.10/dist-packages (from requests->transformers) (3.4)\n",
            "Looking in indexes: https://pypi.org/simple, https://us-python.pkg.dev/colab-wheels/public/simple/\n",
            "Requirement already satisfied: torch in /usr/local/lib/python3.10/dist-packages (2.0.1+cu118)\n",
            "Requirement already satisfied: torchvision in /usr/local/lib/python3.10/dist-packages (0.15.2+cu118)\n",
            "Requirement already satisfied: filelock in /usr/local/lib/python3.10/dist-packages (from torch) (3.12.0)\n",
            "Requirement already satisfied: typing-extensions in /usr/local/lib/python3.10/dist-packages (from torch) (4.5.0)\n",
            "Requirement already satisfied: sympy in /usr/local/lib/python3.10/dist-packages (from torch) (1.11.1)\n",
            "Requirement already satisfied: networkx in /usr/local/lib/python3.10/dist-packages (from torch) (3.1)\n",
            "Requirement already satisfied: jinja2 in /usr/local/lib/python3.10/dist-packages (from torch) (3.1.2)\n",
            "Requirement already satisfied: triton==2.0.0 in /usr/local/lib/python3.10/dist-packages (from torch) (2.0.0)\n",
            "Requirement already satisfied: cmake in /usr/local/lib/python3.10/dist-packages (from triton==2.0.0->torch) (3.25.2)\n",
            "Requirement already satisfied: lit in /usr/local/lib/python3.10/dist-packages (from triton==2.0.0->torch) (16.0.5)\n",
            "Requirement already satisfied: numpy in /usr/local/lib/python3.10/dist-packages (from torchvision) (1.22.4)\n",
            "Requirement already satisfied: requests in /usr/local/lib/python3.10/dist-packages (from torchvision) (2.27.1)\n",
            "Requirement already satisfied: pillow!=8.3.*,>=5.3.0 in /usr/local/lib/python3.10/dist-packages (from torchvision) (8.4.0)\n",
            "Requirement already satisfied: MarkupSafe>=2.0 in /usr/local/lib/python3.10/dist-packages (from jinja2->torch) (2.1.2)\n",
            "Requirement already satisfied: urllib3<1.27,>=1.21.1 in /usr/local/lib/python3.10/dist-packages (from requests->torchvision) (1.26.15)\n",
            "Requirement already satisfied: certifi>=2017.4.17 in /usr/local/lib/python3.10/dist-packages (from requests->torchvision) (2022.12.7)\n",
            "Requirement already satisfied: charset-normalizer~=2.0.0 in /usr/local/lib/python3.10/dist-packages (from requests->torchvision) (2.0.12)\n",
            "Requirement already satisfied: idna<4,>=2.5 in /usr/local/lib/python3.10/dist-packages (from requests->torchvision) (3.4)\n",
            "Requirement already satisfied: mpmath>=0.19 in /usr/local/lib/python3.10/dist-packages (from sympy->torch) (1.3.0)\n"
          ]
        }
      ]
    },
    {
      "cell_type": "code",
      "source": [
        "batch_size=2000\n",
        "\n",
        "pqfile=pq.ParquetFile('/content/sample_data/cnn_dailymail-train-00001-of-00003.parquet')\n",
        "\n",
        "# Read the Parquet file into a Pandas DataFrame\n",
        "df = pqfile.read().to_pandas()\n",
        "\n",
        "# Calculate the desired size of the subset (50% of the original dataset)\n",
        "subset_size = int(len(df) * 0.05)\n",
        "\n",
        "# Take a subset\n",
        "train = df[:subset_size]\n",
        "\n",
        "print(train.head())\n"
      ],
      "metadata": {
        "id": "8oYon0QCgulI",
        "colab": {
          "base_uri": "https://localhost:8080/"
        },
        "outputId": "448d98dd-985f-4704-e621-3e6926e9b740"
      },
      "execution_count": null,
      "outputs": [
        {
          "output_type": "stream",
          "name": "stdout",
          "text": [
            "                                             article  \\\n",
            "0  By . Harriet Arkell . PUBLISHED: . 07:55 EST, ...   \n",
            "1  PUBLISHED: . 14:12 EST, 1 April 2013 . | . UPD...   \n",
            "2  By . Harriet Arkell . PUBLISHED: . 10:53 EST, ...   \n",
            "3  By . Harriet Arkell . PUBLISHED: . 13:17 EST, ...   \n",
            "4  By . Harriet Arkell . PUBLISHED: . 12:35 EST, ...   \n",
            "\n",
            "                                          highlights  \\\n",
            "0  Mark Duper, 54, faces child felony abuse charg...   \n",
            "1  Fence change for this year's race after accusa...   \n",
            "2  Six-and-a-half foot snake has been missing fro...   \n",
            "3  Rhianna Thomas, 24, from Abingdon, denies poss...   \n",
            "4  Ghassan Hitto, 50, voted new head of Syrian Na...   \n",
            "\n",
            "                                         id  \n",
            "0  a03a18be2af9e301a8edc42cfe6ab83c2c284ad1  \n",
            "1  906a80db7e88d4b7701bebca7d837f8cdfe9ca94  \n",
            "2  12b801c3da25330cd2b617246607a7ec5e033dbf  \n",
            "3  904093d925fe423274187bbe2fb112b2442d726f  \n",
            "4  94fd1ac9f9ba158c7edf6eb78d78d4fedb36d079  \n"
          ]
        }
      ]
    },
    {
      "cell_type": "code",
      "source": [
        "# Get the total number of rows in the DataFrame\n",
        "total_rows = train.shape[0]\n",
        "print(total_rows)\n"
      ],
      "metadata": {
        "id": "uEGYLB2JurqO",
        "colab": {
          "base_uri": "https://localhost:8080/"
        },
        "outputId": "9b2d5a36-53ba-49df-87aa-3b97650fb55f"
      },
      "execution_count": null,
      "outputs": [
        {
          "output_type": "stream",
          "name": "stdout",
          "text": [
            "5800\n"
          ]
        }
      ]
    },
    {
      "cell_type": "code",
      "source": [
        "# Initialize the stopwords and lemmatizer\n",
        "stop_words = set(stopwords.words('english'))\n",
        "lemmatizer = WordNetLemmatizer()"
      ],
      "metadata": {
        "id": "WmnaqEUfz2fq"
      },
      "execution_count": null,
      "outputs": []
    },
    {
      "cell_type": "code",
      "source": [
        "# Process the data in batches\n",
        "for start in range(0, len(train), batch_size):\n",
        "  batch = df[start:start+batch_size]\n",
        "\n",
        "        # Tokenize, remove stop words, and lemmatize the text\n",
        "  processed_texts = []\n",
        "  for text_column in batch.columns:\n",
        "    tokens = word_tokenize(str(batch[text_column]))\n",
        "    filtered_tokens = [lemmatizer.lemmatize(token.lower()) for token in tokens if token.lower() not in stop_words]\n",
        "    processed_text = ' '.join(filtered_tokens)\n",
        "    processed_texts.append(processed_text)\n",
        "\n"
      ],
      "metadata": {
        "id": "5IxITy1RwDPr"
      },
      "execution_count": null,
      "outputs": []
    },
    {
      "cell_type": "code",
      "source": [
        "pip install sentencepiece"
      ],
      "metadata": {
        "id": "oquzQq5D48Uq",
        "colab": {
          "base_uri": "https://localhost:8080/"
        },
        "outputId": "ae854671-72ce-473f-f076-b48a4e7bfde6"
      },
      "execution_count": null,
      "outputs": [
        {
          "output_type": "stream",
          "name": "stdout",
          "text": [
            "Looking in indexes: https://pypi.org/simple, https://us-python.pkg.dev/colab-wheels/public/simple/\n",
            "Requirement already satisfied: sentencepiece in /usr/local/lib/python3.10/dist-packages (0.1.99)\n"
          ]
        }
      ]
    },
    {
      "cell_type": "code",
      "source": [
        "# Initialize the tokenizer and model\n",
        "tokenizer = T5Tokenizer.from_pretrained('t5-base')\n",
        "model = T5ForConditionalGeneration.from_pretrained('t5-base')\n",
        "\n",
        "# Tokenize the processed texts\n",
        "tokenized_texts = tokenizer.batch_encode_plus(\n",
        "    processed_texts,\n",
        "    truncation=True,\n",
        "    padding=True,\n",
        "    max_length=512,\n",
        "    return_tensors='pt'\n",
        ")\n",
        "\n",
        "# Prepare the input tensors\n",
        "input_ids = tokenized_texts['input_ids']\n",
        "attention_mask = tokenized_texts['attention_mask']\n",
        "\n",
        "# Train the summarization model\n",
        "model.train()\n",
        "optimizer = torch.optim.AdamW(model.parameters(), lr=1e-5)\n",
        "\n",
        "for epoch in range(10):\n",
        "    optimizer.zero_grad()\n",
        "    outputs = model(input_ids=input_ids, attention_mask=attention_mask, labels=input_ids)\n",
        "    loss = outputs.loss\n",
        "    loss.backward()\n",
        "    optimizer.step()\n",
        "\n",
        "    print(f\"Epoch: {epoch+1}, Loss: {loss.item()}\")"
      ],
      "metadata": {
        "id": "x_zHFCbTxKLI",
        "colab": {
          "base_uri": "https://localhost:8080/"
        },
        "outputId": "ab85953d-55ff-492d-8b80-61feaf873b94"
      },
      "execution_count": null,
      "outputs": [
        {
          "output_type": "stream",
          "name": "stderr",
          "text": [
            "/usr/local/lib/python3.10/dist-packages/transformers/models/t5/tokenization_t5.py:163: FutureWarning: This tokenizer was incorrectly instantiated with a model max length of 512 which will be corrected in Transformers v5.\n",
            "For now, this behavior is kept to avoid breaking backwards compatibility when padding/encoding with `truncation is True`.\n",
            "- Be aware that you SHOULD NOT rely on t5-base automatically truncating your input to 512 when padding/encoding.\n",
            "- If you want to encode/pad to sequences longer than 512 you can either instantiate this tokenizer with `model_max_length` or pass `max_length` when encoding/padding.\n",
            "- To avoid this warning, please instantiate this tokenizer with `model_max_length` set to your preferred value.\n",
            "  warnings.warn(\n"
          ]
        },
        {
          "output_type": "stream",
          "name": "stdout",
          "text": [
            "Epoch: 1, Loss: 11.613097190856934\n",
            "Epoch: 2, Loss: 11.329151153564453\n"
          ]
        }
      ]
    },
    {
      "cell_type": "code",
      "source": [
        "import pandas as pd"
      ],
      "metadata": {
        "id": "VdO_LYM91mmd"
      },
      "execution_count": null,
      "outputs": []
    },
    {
      "cell_type": "code",
      "source": [
        "from transformers.data.data_collator import DataCollatorForSeq2Seq\n",
        "#Load the test dataset\n",
        "\n",
        "pqtest=pq.ParquetFile('/content/sample_data/cnn_dailymail-test.parquet')\n",
        "\n",
        "# Read the Parquet file into a Pandas DataFrame\n",
        "df2 = pqtest.read().to_pandas()\n",
        "\n",
        "# Calculate the desired size of the subset (50% of the original dataset)\n",
        "subset_size = int(len(df2) * 0.3)\n",
        "\n",
        "# Take a subset of the shuffled dataset\n",
        "test = df2[:subset_size]\n",
        "\n",
        "print(test.head())"
      ],
      "metadata": {
        "id": "jtOiin1U3tsI"
      },
      "execution_count": null,
      "outputs": []
    },
    {
      "cell_type": "code",
      "source": [
        "#Loading the all highlights test labels for each aticle\n",
        "#This test labels are the summaries of the respective article\n",
        "test_labels =test['highlights'].tolist()"
      ],
      "metadata": {
        "id": "vz6LfQnq4Oai"
      },
      "execution_count": null,
      "outputs": []
    },
    {
      "cell_type": "code",
      "source": [
        "# Get the total number of rows in the DataFrame\n",
        "total_rows = test.shape[0]\n",
        "print(total_rows)\n"
      ],
      "metadata": {
        "id": "dXiY-SdZY-Tf"
      },
      "execution_count": null,
      "outputs": []
    },
    {
      "cell_type": "code",
      "source": [
        "# Process the data in batches\n",
        "for start in range(0, len(test), batch_size):\n",
        "  batch = df[start:start+batch_size]\n",
        "\n",
        "        # Tokenize, remove stop words, and lemmatize the text\n",
        "  processed_texts2 = []\n",
        "  for text_column in batch.columns:\n",
        "    tokens = word_tokenize(str(batch[text_column]))\n",
        "    filtered_tokens = [lemmatizer.lemmatize(token.lower()) for token in tokens if token.lower() not in stop_words]\n",
        "    processed_text = ' '.join(filtered_tokens)\n",
        "    processed_texts2.append(processed_text)"
      ],
      "metadata": {
        "id": "O-sX1--kZ5hK"
      },
      "execution_count": null,
      "outputs": []
    },
    {
      "cell_type": "code",
      "source": [
        "# Prepare the input tensors for the test dataset\n",
        "test_tokenized_texts = tokenizer.batch_encode_plus(\n",
        "    processed_texts2,\n",
        "    truncation=True,\n",
        "    padding=True,\n",
        "    max_length=512,\n",
        "    return_tensors='pt'\n",
        ")\n",
        "\n",
        "test_input_ids = test_tokenized_texts['input_ids']\n",
        "test_attention_mask = test_tokenized_texts['attention_mask']\n"
      ],
      "metadata": {
        "id": "Yy81GMUMaa2_"
      },
      "execution_count": null,
      "outputs": []
    },
    {
      "cell_type": "code",
      "source": [
        "# Evaluation on test dataset\n",
        "model.eval()\n",
        "with torch.no_grad():\n",
        "    test_outputs = model.generate(input_ids=test_input_ids, attention_mask=test_attention_mask)\n",
        "    test_predicted_summaries = tokenizer.batch_decode(test_outputs, skip_special_tokens=True)\n",
        "\n",
        "# Check the lengths of test_predicted_summaries and test_reference_summaries\n",
        "print(f\"Number of predicted summaries: {len(test_predicted_summaries)}\")\n",
        "print(f\"Number of reference summaries: {len(test_reference_summaries)}\")\n",
        "\n",
        "# Calculate BLEU score for test dataset\n",
        "test_reference_summaries = test_labels  # Convert tensor to list of summaries\n",
        "bleu_score = corpus_bleu([[ref_summary] for ref_summary in test_reference_summaries], [test_predicted_summaries])\n",
        "\n",
        "# Calculate ROUGE scores for test dataset\n",
        "rouge = Rouge()\n",
        "rouge_scores = rouge.get_scores(test_predicted_summaries, test_reference_summaries, avg=True)\n",
        "\n",
        "# Print the evaluation results\n",
        "print(f\"BLEU Score: {bleu_score}\")\n",
        "print(f\"ROUGE Scores: {rouge_scores}\")"
      ],
      "metadata": {
        "id": "l2jqa38Ka42p"
      },
      "execution_count": null,
      "outputs": []
    },
    {
      "cell_type": "code",
      "source": [],
      "metadata": {
        "id": "dR87jHDIbc8u"
      },
      "execution_count": null,
      "outputs": []
    }
  ]
}